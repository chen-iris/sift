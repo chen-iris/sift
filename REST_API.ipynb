{
 "cells": [
  {
   "cell_type": "code",
   "execution_count": 7,
   "metadata": {},
   "outputs": [
    {
     "name": "stdout",
     "output_type": "stream",
     "text": [
      " * Serving Flask app \"__main__\" (lazy loading)\n",
      " * Environment: production\n",
      "   WARNING: Do not use the development server in a production environment.\n",
      "   Use a production WSGI server instead.\n",
      " * Debug mode: off\n"
     ]
    },
    {
     "name": "stderr",
     "output_type": "stream",
     "text": [
      " * Running on http://127.0.0.1:5000/ (Press CTRL+C to quit)\n",
      "127.0.0.1 - - [13/Jan/2019 14:45:34] \"GET /This%20dress%20is%20not%20fitting%20properly HTTP/1.1\" 200 -\n"
     ]
    }
   ],
   "source": [
    "# A very simple Flask Hello World app for you to get started with...\n",
    "\n",
    "from flask import Flask\n",
    "from flask_restful import Resource, Api\n",
    "import json\n",
    "import numpy as np\n",
    "import pandas as pd\n",
    "from sklearn.externals import joblib\n",
    "from sklearn.feature_extraction.text import CountVectorizer\n",
    "\n",
    "app = Flask(__name__)\n",
    "api = Api(app)\n",
    "\n",
    "# str = '{\"messages\": [{\"text\": \"Welcome to the Chatfuel Rockets!\"},{\"text\": \"What are you up to?\"}]}'\n",
    "# json = json.loads(str)\n",
    "\n",
    "class HelloWorld(Resource):\n",
    "    def get(self, text):\n",
    "        ratingList = np.arange(0.0, 5.0, 0.1)\n",
    "        sentimentList = ['Poor', 'Terrible', 'Cute', 'Okay', 'Love']\n",
    "        data = {}\n",
    "        data['product'] = text\n",
    "        rating = ratingList[len(text) % len(ratingList)]\n",
    "        data['rating'] = round(rating,1)\n",
    "        if rating < 1.6:\n",
    "            sentiment = 'Terrible'\n",
    "        elif rating < 2.6:\n",
    "            sentiment = 'Poor'\n",
    "        elif rating < 3.6:\n",
    "            sentiment = 'Okay'\n",
    "        elif rating < 4.6:\n",
    "            sentiment = 'Cute'\n",
    "        elif rating < 5.1:\n",
    "            sentiment = 'Love'\n",
    "        data['sentiment'] = sentiment\n",
    "        json_data = json.dumps(data)\n",
    "#         res = json.loads(str)\n",
    "        return json_data\n",
    "\n",
    "class Model(Resource):\n",
    "    def get(self, text):\n",
    "        l = []\n",
    "        # load the model from disk\n",
    "        loaded_model = joblib.load(\"model.sav\")\n",
    "        vect = joblib.load(\"vect.sav\")\n",
    "        data = {}\n",
    "        df = pd.Series(np.asarray([text]))\n",
    "        X_train_review = vect.transform(df)\n",
    "        rating = loaded_model.predict(X_train_review)\n",
    "        rating = round(rating[0])\n",
    "        if rating == 1:\n",
    "            sentiment = 'Terrible'\n",
    "        elif rating == 2:\n",
    "            sentiment = 'Poor'\n",
    "        elif rating == 3:\n",
    "            sentiment = 'Okay'\n",
    "        elif rating == 4:\n",
    "            sentiment = 'Cute'\n",
    "        elif rating == 5:\n",
    "            sentiment = 'Love'\n",
    "        data['sentiment'] = sentiment\n",
    "        json_data = json.dumps(data)\n",
    "#         res = json.loads(str)\n",
    "        return json_data\n",
    "\n",
    "api.add_resource(Model, '/<string:text>')\n",
    "\n",
    "if __name__ == '__main__':\n",
    "    app.run()"
   ]
  },
  {
   "cell_type": "code",
   "execution_count": null,
   "metadata": {},
   "outputs": [],
   "source": []
  }
 ],
 "metadata": {
  "kernelspec": {
   "display_name": "Python 3",
   "language": "python",
   "name": "python3"
  },
  "language_info": {
   "codemirror_mode": {
    "name": "ipython",
    "version": 3
   },
   "file_extension": ".py",
   "mimetype": "text/x-python",
   "name": "python",
   "nbconvert_exporter": "python",
   "pygments_lexer": "ipython3",
   "version": "3.6.7"
  }
 },
 "nbformat": 4,
 "nbformat_minor": 2
}
